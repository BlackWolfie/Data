{
 "cells": [
  {
   "cell_type": "markdown",
   "metadata": {
    "colab_type": "text",
    "id": "ONYWnLl36fWA"
   },
   "source": [
    "Extension"
   ]
  },
  {
   "cell_type": "code",
   "execution_count": null,
   "metadata": {
    "colab": {},
    "colab_type": "code",
    "id": "3_6uu6eJ6dM4"
   },
   "outputs": [],
   "source": []
  },
  {
   "cell_type": "markdown",
   "metadata": {
    "colab_type": "text",
    "id": "U1ZrvrRB4-Eo"
   },
   "source": [
    "# Dataset\n",
    "## Fichier d'instance de problème"
   ]
  },
  {
   "cell_type": "code",
   "execution_count": null,
   "metadata": {
    "colab": {},
    "colab_type": "code",
    "id": "7I_zY5aZ5Dug"
   },
   "outputs": [],
   "source": []
  },
  {
   "cell_type": "markdown",
   "metadata": {
    "colab_type": "text",
    "id": "6ecq0E9x5pOA"
   },
   "source": [
    "## Valeur de l'optimal ou borne inférieure"
   ]
  },
  {
   "cell_type": "code",
   "execution_count": null,
   "metadata": {
    "colab": {},
    "colab_type": "code",
    "id": "ow91a_l15ym6"
   },
   "outputs": [],
   "source": []
  },
  {
   "cell_type": "markdown",
   "metadata": {
    "colab_type": "text",
    "id": "NZ1fWNTR5yzx"
   },
   "source": [
    "## Code de génération aléatoire"
   ]
  },
  {
   "cell_type": "code",
   "execution_count": null,
   "metadata": {
    "colab": {
     "base_uri": "https://localhost:8080/",
     "height": 71
    },
    "colab_type": "code",
    "executionInfo": {
     "elapsed": 5672,
     "status": "ok",
     "timestamp": 1561995391772,
     "user": {
      "displayName": "luc van de velde",
      "photoUrl": "",
      "userId": "16222162729783554477"
     },
     "user_tz": -120
    },
    "id": "xgX15sdW55p4",
    "outputId": "96334899-0303-490c-eea3-278da754fbcf"
   },
   "outputs": [],
   "source": []
  },
  {
   "cell_type": "markdown",
   "metadata": {
    "colab_type": "text",
    "id": "FXNbR2cu557o"
   },
   "source": [
    "# Code Python de l'algorithme\n"
   ]
  },
  {
   "cell_type": "code",
   "execution_count": null,
   "metadata": {
    "colab": {
     "base_uri": "https://localhost:8080/",
     "height": 122
    },
    "colab_type": "code",
    "executionInfo": {
     "elapsed": 225193,
     "status": "ok",
     "timestamp": 1562052051465,
     "user": {
      "displayName": "luc van de velde",
      "photoUrl": "",
      "userId": "16222162729783554477"
     },
     "user_tz": -120
    },
    "id": "Tv7a8kPI6IwJ",
    "outputId": "a45dc962-9e23-4197-8a68-dfba7b912eb3"
   },
   "outputs": [],
   "source": []
  },
  {
   "cell_type": "markdown",
   "metadata": {
    "colab_type": "text",
    "id": "C9tCC_fA6I-p"
   },
   "source": [
    "# Codes pour générer l'étude expérimentale"
   ]
  },
  {
   "cell_type": "markdown",
   "metadata": {
    "colab_type": "text",
    "id": "jtperSAn6N_Y"
   },
   "source": [
    "## Code de calcul des paramètres des graphes et des bornes inférieures"
   ]
  },
  {
   "cell_type": "code",
   "execution_count": null,
   "metadata": {
    "colab": {},
    "colab_type": "code",
    "id": "o3n_2upM6TpB"
   },
   "outputs": [],
   "source": []
  },
  {
   "cell_type": "markdown",
   "metadata": {
    "colab_type": "text",
    "id": "Xg_e2y8O6Tyo"
   },
   "source": [
    "## Code de calcul des statistiques descriptives, voire prédictives"
   ]
  },
  {
   "cell_type": "code",
   "execution_count": 45,
   "metadata": {
    "colab": {},
    "colab_type": "code",
    "id": "8CAbxO9a6WVJ"
   },
   "outputs": [
    {
     "name": "stdout",
     "output_type": "stream",
     "text": [
      "La taille d'un objet se situe entre 0 et 20\n",
      "La contenance d'un vehicule se situe entre 10 et 100\n",
      "\n",
      "La moyenne de la taille des objet : 9.92\n",
      "La moyenne de la contenance des vehicule : 56.0 \n",
      "\n",
      "La médianne de la taille des objet : 10.0\n",
      "La médianne de la contenace des vehicule : 55.5 \n",
      "\n",
      "Quartile Q1 de la taille des objet : 5.0\n",
      "Quartile Q3 de la taille des objet : 14.0 \n",
      "\n",
      "Quartile Q1 de la contenace des vehicule : 5.0\n",
      "Quartile Q3 de la contenace des vehicule : 14.0 \n",
      "\n",
      "L'écart interquartile de la taille des objet : 9.0\n",
      "L'écart interquartile de la contenace des vehicule : 51.0 \n",
      "\n",
      "La variance de la taille des objet : 34.67\n",
      "La variance de la contenace des vehicule : 857.0 \n",
      "\n",
      "L'écart type de la taille des objet : 5.89\n",
      "L'écart type de la contenace des vehicule : 29.27 \n",
      "\n"
     ]
    }
   ],
   "source": [
    "import numpy as np\n",
    "import matplotlib.pyplot as plt\n",
    "import pandas as pd\n",
    "from scipy import stats as st\n",
    "import matplotlib.pyplot as plt\n",
    "import math\n",
    "import sys\n",
    "import json\n",
    "\n",
    "def main(argv):\n",
    "    print('La taille d\\'un objet se situe entre 0 et 20')\n",
    "    print('La contenance d\\'un vehicule se situe entre 10 et 100\\n')\n",
    "    # On recupere le Dataset\n",
    "    with open(\"Dataset/Data.json\".format(argv[0]), 'r') as json_file:\n",
    "        data = json.load(json_file)\n",
    "    datademand = data['demands']\n",
    "    datavehicule = data['vehicle_capacities']\n",
    "    \n",
    "    moyenne(datademand, datavehicule)\n",
    "    mediane(datademand, datavehicule)\n",
    "    quantile(datademand, datavehicule)\n",
    "    variance(datademand, datavehicule)\n",
    "    ecart_type(datademand, datavehicule)\n",
    "    \n",
    "    \n",
    "    \n",
    "if __name__ == '__main__':\n",
    "    main(sys.argv[1:])\n"
   ]
  },
  {
   "cell_type": "markdown",
   "metadata": {},
   "source": [
    "### Moyenne\n",
    "<img src = \"Image/moyenne.jpg\" title = \"moyenne\" alt = \"moyenne\">\n"
   ]
  },
  {
   "cell_type": "code",
   "execution_count": 46,
   "metadata": {},
   "outputs": [],
   "source": [
    "def moyenne(datademand, datavehicule):\n",
    "    datademand = np.mean(datademand)\n",
    "    datavehicule = np.mean(datavehicule)\n",
    "    print('La moyenne de la taille des objet :' ,round(datademand, 2))\n",
    "    print('La moyenne de la contenance des vehicule :' ,round(datavehicule, 2), '\\n')"
   ]
  },
  {
   "cell_type": "markdown",
   "metadata": {},
   "source": [
    "### Médiane\n",
    "<img src = \"Image/mediane.jpg\" title = \"mediane\" alt = \"mediane\">"
   ]
  },
  {
   "cell_type": "code",
   "execution_count": 47,
   "metadata": {},
   "outputs": [],
   "source": [
    "def mediane(datademand, datavehicule):\n",
    "    datademand = np.median(datademand)\n",
    "    datavehicule = np.median(datavehicule)\n",
    "    print('La médianne de la taille des objet :' ,round(datademand, 2))\n",
    "    print('La médianne de la contenace des vehicule :' ,round(datavehicule, 2) , '\\n')"
   ]
  },
  {
   "cell_type": "markdown",
   "metadata": {},
   "source": [
    "### Variance\n",
    "<img src = \"Image/variance.jpg\" title = \"variance\" alt = \"variance\">"
   ]
  },
  {
   "cell_type": "code",
   "execution_count": 48,
   "metadata": {},
   "outputs": [],
   "source": [
    "def variance(datademand, datavehicule):\n",
    "    datademand = np.var(datademand)\n",
    "    datavehicule = np.var(datavehicule)\n",
    "    print('La variance de la taille des objet :' ,round(datademand, 2))\n",
    "    print('La variance de la contenace des vehicule :' ,round(datavehicule, 2) , '\\n') "
   ]
  },
  {
   "cell_type": "markdown",
   "metadata": {},
   "source": [
    "### L'écart-type\n",
    "<img src = \"Image/ecart-type.jpg\" title = \"ecart-type\" alt = \"ecart-type\">"
   ]
  },
  {
   "cell_type": "code",
   "execution_count": 49,
   "metadata": {},
   "outputs": [],
   "source": [
    "def ecart_type(datademand, datavehicule):\n",
    "    datademand = np.std(datademand)\n",
    "    datavehicule = np.std(datavehicule)\n",
    "    print('L\\'écart type de la taille des objet :' ,round(datademand, 2))\n",
    "    print('L\\'écart type de la contenace des vehicule :' ,round(datavehicule, 2), '\\n') "
   ]
  },
  {
   "cell_type": "markdown",
   "metadata": {},
   "source": [
    "### Quantiles\n"
   ]
  },
  {
   "cell_type": "code",
   "execution_count": 50,
   "metadata": {},
   "outputs": [],
   "source": [
    "def quantile(datademand, datavehicule):\n",
    "    Q1d = round(np.percentile(datademand, 25))\n",
    "    Q3d = round(np.percentile(datademand, 75))\n",
    "    Q1v = round(np.percentile(datavehicule, 25))\n",
    "    Q3v = round(np.percentile(datavehicule, 75))\n",
    "    datademand = np.median(datademand)\n",
    "    datavehicule = np.median(datavehicule)\n",
    "    print('Quartile Q1 de la taille des objet :' ,Q1d)\n",
    "    print('Quartile Q3 de la taille des objet :' ,Q3d, '\\n')\n",
    "    print('Quartile Q1 de la contenace des vehicule :' ,Q1d)\n",
    "    print('Quartile Q3 de la contenace des vehicule :' ,Q3d, '\\n')\n",
    "    ecart_interquartile(Q1d,Q3d, Q1v,Q3v)\n",
    "\n"
   ]
  },
  {
   "cell_type": "markdown",
   "metadata": {},
   "source": [
    "### L'écart interquartile\n",
    "<img src = \"Image/ecart-intercartile.jpg\" title = \"ecart-interquartile\" alt = \"ecart-interquartile\">"
   ]
  },
  {
   "cell_type": "code",
   "execution_count": 51,
   "metadata": {},
   "outputs": [],
   "source": [
    "def ecart_interquartile(q1demand, q3demands, q1vehicule, q3vehicule):\n",
    "    print('L\\'écart interquartile de la taille des objet :' ,q3demands-q1demand)\n",
    "    print('L\\'écart interquartile de la contenace des vehicule :' ,q3vehicule-q1vehicule , '\\n') "
   ]
  },
  {
   "cell_type": "markdown",
   "metadata": {
    "colab_type": "text",
    "id": "VT1yAciZ6WgZ"
   },
   "source": [
    "## Script de tests de montée en charge"
   ]
  },
  {
   "cell_type": "code",
   "execution_count": null,
   "metadata": {
    "colab": {},
    "colab_type": "code",
    "id": "fN8F4fGF6ZCh"
   },
   "outputs": [],
   "source": []
  }
 ],
 "metadata": {
  "colab": {
   "collapsed_sections": [],
   "name": "Projet_Data_ livrable_technique.ipynb",
   "provenance": [],
   "version": "0.3.2"
  },
  "kernelspec": {
   "display_name": "Python 3",
   "language": "python",
   "name": "python3"
  },
  "language_info": {
   "codemirror_mode": {
    "name": "ipython",
    "version": 3
   },
   "file_extension": ".py",
   "mimetype": "text/x-python",
   "name": "python",
   "nbconvert_exporter": "python",
   "pygments_lexer": "ipython3",
   "version": "3.7.3"
  }
 },
 "nbformat": 4,
 "nbformat_minor": 2
}
