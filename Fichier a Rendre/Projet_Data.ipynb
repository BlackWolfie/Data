{
 "cells": [
  {
   "cell_type": "code",
   "execution_count": null,
   "metadata": {
    "colab": {
     "base_uri": "https://localhost:8080/",
     "height": 153
    },
    "colab_type": "code",
    "id": "qN19kJywimk_",
    "outputId": "2250d4ff-5005-4934-e12b-1c2ecf1159cf"
   },
   "outputs": [
    {
     "name": "stdout",
     "output_type": "stream",
     "text": [
      "Collecting ortools\n",
      "\u001b[?25l  Downloading https://files.pythonhosted.org/packages/af/14/1aeb3e81912f624e5b157ed2d8c3c66306c8fffca0b49cd1ca8d4fdb31f8/ortools-7.1.6720-cp36-cp36m-manylinux1_x86_64.whl (27.1MB)\n",
      "\u001b[K     |████████████████████████████████| 27.1MB 1.3MB/s \n",
      "\u001b[?25hRequirement already satisfied: six>=1.10 in /usr/local/lib/python3.6/dist-packages (from ortools) (1.12.0)\n",
      "Requirement already satisfied: protobuf>=3.7.1 in /usr/local/lib/python3.6/dist-packages (from ortools) (3.7.1)\n",
      "Requirement already satisfied: setuptools in /usr/local/lib/python3.6/dist-packages (from protobuf>=3.7.1->ortools) (41.0.1)\n",
      "Installing collected packages: ortools\n",
      "Successfully installed ortools-7.1.6720\n"
     ]
    }
   ],
   "source": [
    "pip install ortools\n"
   ]
  },
  {
   "cell_type": "code",
   "execution_count": null,
   "metadata": {
    "colab": {},
    "colab_type": "code",
    "id": "qs4hVXEFGk6V"
   },
   "outputs": [],
   "source": []
  },
  {
   "cell_type": "markdown",
   "metadata": {
    "colab_type": "text",
    "id": "3Vvr4Fe9z0JB"
   },
   "source": [
    "#Projet Data\n",
    "## Description de  l'algorithme\n",
    "### Modelisation\n",
    "\n",
    "1.   Le Problème\n",
    "\n",
    "Le but de notre étude est de générer une tournée de livraison (problème du VRP). Le problème algorithmique consiste donc à calculer sur un réseau routier une tournée permettant de relier entre elles un sous-ensemble de villes, puis de revenir à son point de départ, de manière à minimiser la distance totale parcourue.\n",
    "Nous devons proposer une méthode issue de la Recherche Opérationnelle pour générer une tournée de livraison correspondant à ce problème. L’implémentation se fera sur une version de base du problème, à laquelle nous pourrons ajouter des contraintes supplémentaires, rendant le problème plus réaliste, mais aussi plus dur à traiter.\n",
    "Par ailleurs, nous devrons effectuer une étude statistique du comportement de notre méthode de résolution, faisant apparaitre ses performances (qualité de solution, temps de convergence). Idéalement, des statistiques prédictives permettent d’extrapoler ce comportement sur des cas d’usages que nos ordinateurs seuls ne pourraient traiter.\n",
    "\n",
    "\n",
    "\n",
    "2.   Etude de Complexité\n",
    "\n",
    "La complexité permet de quantifier (mettre une formule mathématique) la relation entre les conditions de départ et le temps effectué par l'algorithme , ainsi que l'optimisation du stockage de données dans certains cas. \n",
    "\n",
    "Mesure asymptotique:\n",
    "\n",
    "Nous allons effectuer une comparaison entre deux algorithmes résolvant le même problème de Ro mais de par un procédé différant l'algorithme de (      ) et l'algorithme (     ), l'objectif étant de comparé les temps d'exécution de chacun d'eux.\n",
    "\n",
    "**Faire comparatif temps d'éxécution des deux algorithmes **\n",
    "\n",
    "*Deux algorithmes résolvent le même problème (donc sont corrects), et que toutes les opérations sont prises en compte pour la mesure de la complexité, le premier algorithme fait N opérations et le deuxième 2N.*\n",
    "\n",
    "Consomation de mémoire:\n",
    "\n",
    "La complexité repose aussi sur le nombre de mémoire allouer pour repondre au problème posés. Un algorithme prenant moins de mémoire se plus susceptible d'avoir un temps d'éxécution plus faible que l'autre .\n",
    "\n",
    "*Il est intéressant en général de mesurer à la fois la complexité en temps (la rapidité d'exécution) et en mémoire (la quantité d'espace occupé pendant l'exécution) de l'algorithme.*\n",
    "\n",
    "**Faire comparatif d'utilisation de mémoire pour deux algorithme donnée **\n",
    "\n",
    "La complexité du pire cas :\n",
    "\n",
    "Dans se cas,  il est question de mettre les données sotcker dans l'ordre avec lequels elle seront appeller, car une donné spécifique situer à la fin d'un tableau et qui doit etre appeller par une fonction au début du programme, va etre plus long a parcourir que si la donnée était situer au début de tableau. \n",
    "\n",
    "**Donner exemple optimisation de code pour éxécution rapide **\n",
    "\n",
    "*Pour notre exemple, supposons que l'élément se trouve effectivement dans la liste, mais qu'il soit placé à une position aléatoire. Elle a autant de chances de se trouver au début de la liste (donc qui s'arrête très vite), qu'au milieu ou carrément à la fin (on doit alors parcourir toute la liste). En moyenne, on fera donc un demi-parcours par essai : entre un parcours complet et un demi-parcours, il y a seulement un facteur multiplicatif constant, donc c'est équivalent du point de vue de la complexité.*"
   ]
  },
  {
   "cell_type": "code",
   "execution_count": null,
   "metadata": {
    "colab": {},
    "colab_type": "code",
    "id": "HTbFoToYzK-o",
    "outputId": "4b050b58-ac64-4958-ecdb-d9d4543cbf16"
   },
   "outputs": [
    {
     "data": {
      "image/png": "[encoded data removed]",
      "text/plain": [
       "<Figure size 432x288 with 1 Axes>"
      ]
     },
     "metadata": {
      "needs_background": "light",
      "tags": []
     },
     "output_type": "display_data"
    }
   ],
   "source": [
    "import numpy as np\n",
    "import matplotlib.pyplot as plt\n",
    "\n",
    "x = np.array([200, 500, 700, 1000, 1500])\n",
    "y = np.array([2.37, 25.82, 72.35, 117.8, 278.98 ])\n",
    "z= np.array([30.02, 30.01, 30.16, 35, 35.61 ])\n",
    "plt.plot(x, y, \"o-\", label=\"Path cheapest arc(heuristique)\")\n",
    "plt.plot(x, z, \"o-\", label=\"Guided local search(metaheuristique)\")\n",
    "plt.ylabel('Time in second')\n",
    "plt.xlabel('Number of cities')\n",
    "plt.title('Time complexity study')\n",
    "plt.legend()\n",
    "\n",
    "plt.show()"
   ]
  },
  {
   "cell_type": "markdown",
   "metadata": {
    "colab_type": "text",
    "id": "cAmjZ9fhGk6g"
   },
   "source": [
    "Un graphique réprésentant le nombre villes traiter (en abscisse) par le temps d'exécution des programmes (en ordonné). Le tracé en bleu représente le programme heuristique et le tracé en orange représente le programme metaheuristique, c'est deux programmes sont utilisé et lancer en meme temps pour repondre a un problème similaire donné. Chaque programme a était démarrer avec un nombre de villes a traiter différant a chaque réexécution. L'on peux observer que pour un problème donné ayant moins de 500 villes a traité , la solution heuristique reste la plus rapide alors que pour un programme uilisant plus de 500 villes , la solution metaheuristique devient de plus en plus efficace. Notre solution devant trairer un problème gérant plus de 1000 villes utilisera donc la solution méthaeuristique qui semble etre la solution evidante pour notre projet.\n",
    "\n",
    "3.   Choix et description de l'algorithme \n",
    "\n",
    "\n",
    "L'algorithme choisit est celui de la Recherche Locale Guidée (GLS)\n",
    "\n",
    "---\n",
    "\n",
    "**Résumer fonctionnement général :**\n",
    "\n",
    "\n",
    "La recherche locale guidée (GLS) est un algorithme métaheuristiques dont le but est d'aider la recherche locale pour échapper  à des optimums locaux.\n",
    "\n",
    "La méthode de recherche locale guidée a été appliquée avec succès à un certain problème d’optimisations difficiles comme le problème du voyageur de commerce (TSP) .\n",
    "\n",
    "Plus precisement c'est un algorithme d’optimisation  visant à résoudre des problèmes d’optimisation difficile  (souvent issus des domaines de la recherche opérationnel , ou de l’intelligence artificielle. Ils sont généralement des algorithmes stochastique itératifs, qui progressent vers un optimum global.\n",
    "\n",
    "Cette algorithme vas choisir un optimum local et vas etudier ces caracteristique telles que la distance entre deux ville ou le volumme libre present de le cammions dans notre cas. l'algorithme etudie donc tous les optimun locaux et vas leur associer une penalité qui vas permettre a l'algorithme de trouver la meilleur solution concevable dans un temps donnée. \n",
    "\n",
    "---\n",
    "\n",
    "**Différents paramètres de l'algorithme :**\n",
    "\n",
    "\n",
    "Les differents paramètre que l'on utilise dans ce programme sont: \n",
    "\n",
    "\n",
    "*   Une matrice de distance :  Cette matrice contient la conversion des coordonnées des villes en distance entre celles-ci. Comme cela nous verrons la distance parcourrue par un véhicule pour aller d'une ville à une autre.\n",
    "*   Une taille d'objet : Cette taille nous est utile pour la gestion des contrainte pour savoir combien d'objet peut contenir un camion.\n",
    "*   Un volumme de stockage pour les cammion :c'est la taille maximum d'objet qu'un camion peut transporter\n",
    "*   Un nombre de vehicule utilisable \n",
    "*   Une ville de depart et d'arrivée\n",
    "\n",
    "\n",
    "---\n",
    "**Spécificités algorithmiques ajoutées à la méthode :**\n",
    "\n",
    "\n",
    "Pour notre algorithme, nous sommes partis d'un probleme VRP basique, où les seuls parametres sont la distance entre deux ville et le but est de trouver la plus petite distance a parcourir en passant par toutes les villes puis en revenant à son point de depart.\n",
    "\n",
    "Nous avons decidé d'ajouter à cela une contrainte où les vehicule passent rammaser les objets dans les villes pour les rammener aux points de depart.\n",
    "Pour cela, nous devont ajouter un parametre qui est la dimmension d'un objet et d'un vehicule. cela nous a ammener à modifier l'algorithme pour qu'il ne recherche plus en premier lieu a faire la plus petite distance, mais qu'il recherche a passer dans toutes les villes avec un objet pour remplir efficacemment le camions et avoir une distance parcourue la plus petite possible.\n",
    "\n",
    "---\n",
    "**Modélisation du problème selon le formalisme de l'algorithme :**\n",
    "\n",
    "\n",
    "L'algorithme va commencer par lancer le programme de creation du dataset.\n",
    "\n",
    "\n",
    "1.   Dans le Dataset le programme va commencer par demander le nombre de ville que l'on veut generer\n",
    "2.   Ensuite il vas generer les vehicules nécessaires pour effectuer la tournée\n",
    "3.   Puis il créé une matrice de localisation \n",
    "4.   Ensuite il genere les vehicule et leur dimmension avec la dimmension des objet par ville\n",
    "5.   Pour finir il ecrit dans un fichier Json les données.\n",
    "\n",
    "Puis quand cela est fait il demarre l'algorithme qui vas nous generer une solution\n",
    "\n",
    "\n",
    "\n",
    "1.   Pour cela il va commencer par lire les données du fichier JSON et les parser\n",
    "2.   Il met en place les paramètres de l'algorithme choisit aux préalable\n",
    "3.  Il affiche les solution ou la solution possible\n",
    "\n",
    "\n",
    "\n",
    "\n",
    "##Illustration avec plusieurs cas de tests##"
   ]
  },
  {
   "cell_type": "code",
   "execution_count": null,
   "metadata": {
    "colab": {
     "base_uri": "https://localhost:8080/",
     "height": 297
    },
    "colab_type": "code",
    "id": "Hl5Wp54C7TF8",
    "outputId": "1c1f4160-2f53-4eea-f71d-9fe3aa27a20d"
   },
   "outputs": [
    {
     "data": {
      "image/png": "[encoded data removed]",
      "text/plain": [
       "<Figure size 432x288 with 1 Axes>"
      ]
     },
     "metadata": {
      "tags": []
     },
     "output_type": "display_data"
    }
   ],
   "source": [
    "import matplotlib\n",
    "import matplotlib.pyplot as plt\n",
    "import numpy as np\n",
    "\n",
    "\n",
    "men_means, men_std = (2.5, 25.8, 72.4, 117.8, 279), (0, 0, 0,0, 0)\n",
    "women_means, women_std = (30, 30.1, 30.2, 35, 35.6), (0, 0, 0, 0,0)\n",
    "ind = np.arange(len(men_means))  # the x locations for the groups\n",
    "width = 0.35  # the width of the bars\n",
    "\n",
    "fig, ax = plt.subplots()\n",
    "rects1 = ax.bar(ind - width/2, men_means, width, yerr=men_std,\n",
    "                label='Cheapest arc')\n",
    "rects2 = ax.bar(ind + width/2, women_means, width, yerr=women_std,\n",
    "                label='GLS')\n",
    "\n",
    "# Add some text for labels, title and custom x-axis tick labels, etc.\n",
    "ax.set_ylabel('Temps de resolution')\n",
    "ax.set_title('Resultat des different test avec la distance parcourue dans chaque cas')\n",
    "ax.set_xticks(ind)\n",
    "ax.set_xlabel('Nombre de ville')\n",
    "ax.set_xticklabels(('200', '500', '700', '1000', '1500'))\n",
    "ax.legend()\n",
    "\n",
    "\n",
    "def autolabel(rects,i):\n",
    "    xpos='center'\n",
    "    if i== 1 :\n",
    "      s= ['215km','381km','823km','748km','1 014km']\n",
    "    else :\n",
    "      s= ['189km','381km','850km','793km','1 123km']\n",
    "\n",
    "    \"\"\"\n",
    "    Attach a text label above each bar in rects, displaying its height.\n",
    "\n",
    "    xpos indicates which side to place the text w.r.t. the center of\n",
    "    the bar. It can be one of the following {'center', 'right', 'left'}.\n",
    "    \"\"\"\n",
    "\n",
    "    ha = {'center': 'center', 'right': 'left', 'left': 'right'}\n",
    "    offset = {'center': 0, 'right': 1, 'left': -1}\n",
    "    i=0\n",
    "    for rect in rects:\n",
    "        height = rect.get_height()\n",
    "        ax.annotate(s[i] ,\n",
    "                    xy=(rect.get_x() + rect.get_width() / 2, height),\n",
    "                    xytext=(offset[xpos]*3, 3),  # use 3 points offset\n",
    "                    textcoords=\"offset points\",  # in both directions\n",
    "                    ha=ha[xpos], va='bottom')\n",
    "\n",
    "        i += 1\n",
    "autolabel(rects1,1)\n",
    "autolabel(rects2,2)\n",
    "\n",
    "fig.tight_layout()\n",
    "\n",
    "plt.show()"
   ]
  },
  {
   "cell_type": "markdown",
   "metadata": {
    "colab_type": "text",
    "id": "E331INZO7qRD"
   },
   "source": [
    "Dans ce graphique, nous pouvons voir le temps d'exécution d'un algorithme heuristique et d'un méta-heuristique en fonction du nombre de villes.\n",
    "Nous pouvons voir que le GLS (méta-heuristique) devient très vite intéressant lors de l'augmentation du nombre de villes à étudier. Le résultat est approché mais reste un résultat correct pour notre problème."
   ]
  },
  {
   "cell_type": "markdown",
   "metadata": {
    "colab_type": "text",
    "id": "XaXmSxMIUn94"
   },
   "source": [
    "## Etude statistique \n",
    "\n",
    "L’analyse descriptive: a pour but de résumer les données en leur assignant une nouvelle représentation, de synthétiser en faisant ressortir ce qui est dissimulé par le volume. On peut classer les individus dans des catégories, trouver les individus les plus proches\n",
    "ou les plus éloignés entre eux ; mais aussi trouver les exceptions ou les cas atypiques. On peut également voir si des variables sont proches, expliquer une variable en fonction des autres ou encore repérer les variables les plus influentes.<br/>\n",
    "\n",
    "Moyenne :permet de derniner le temps d'exécution moyen de l'algorithme.<br/>\n",
    "<img src = \"Image/moyenne.jpg\" title = \"moyenne\" alt = \"moyenne\"><br/>\n",
    "\n",
    "Médiane: permet de vérifier que la pluspart des valeur sont présente dans la moyenne.<br/>\n",
    "<img src = \"Image/mediane.jpg\" title = \"mediane\" alt = \"mediane\"><br/>\n",
    "\n",
    "Variance: La variance d'une variable aléatoire est la mesure de la dispersion des échantillons autour de la moyenne, autrement dit, elle caractérise sa capacité à prendre des valeurs plus ou moins éloignées de son espérance. Cette valeur va nous permettre de vérifier que notre algorithme ne ralentie pas en fonction du nombre de donnée qu'il va traiter.<br/>\n",
    "<img src = \"Image/variance.jpg\" title = \"variance\" alt = \"variance\"><br/>\n",
    "\n",
    "L'écart type : L'écart-type sert à mesurer la dispersion, ou l'étalement, d'un ensemble de valeurs autour de leur moyenne. Plus l'écart-type est faible, plus la population est homogène. Cette valeur nous permet de déterminer qu'un linéariter d'exécution (temps) est présente lors de l'exécution des nimporte quel programme, n'y a que très peu d'erreur.<br/>\n",
    "<img src = \"Image/ecart-type.jpg\" title = \"ecart-type\" alt = \"ecart-type\"><br/>\n",
    " \n",
    "On reconnait deux quantiles particuliers le Q_{0.25} et Q_{0.75} qu’on appelle respectivement des quartiles. Le Quartile Q_{1} correspond au quantile Q_{0.25} et le quartile Q_{3} correspond au quantile Q_{0.75}.<br/>\n",
    "\n",
    "L'écart interquartile: L’écart intequartile mesure la dispersion de 50% des données du dataset. Les 50% des données correspond à celles comprises entre le premier quartile Q1 et le 3eme quartile Q3. L’écart interquartile est tout simplement la soustraction du troisième quartile du premier.<br/>\n",
    "<img src = \"Image/ecart-intercartile.jpg\" title = \"ecart-interquartile\" alt = \"ecart-interquartile\"><br/>\n",
    "\n",
    "L’analyse prédictive: consiste à analyser les données actuelles afin de faire des hypothèses sur des comportements futurs. On se sert des données que l’on possède déjà pour extrapoler et deviner le comportement de nouveaux individus mais également l’évolution des individus déjà présents\n",
    "\n",
    "Pour une mise en place en entreprise, nous avons conclue que notre algorithme permet de résoudre beaucoup un problème RO du type \" voyageur de commerce\" avec un grand nombre de paramètre entrer, il serait donc aisé de le déployer et plus raîde d'exécution que la pluspart des algorithmes. L'algorithme étant modifiable mais pouvant s'adapter a la pluspart des besoin de se type, il ne sera donc pas nécessaire de le metttre a jour ou de le rééditer "
   ]
  },
  {
   "cell_type": "code",
   "execution_count": 2,
   "metadata": {},
   "outputs": [
    {
     "name": "stdout",
     "output_type": "stream",
     "text": [
      "La taille d'un objet se situe entre 0 et 20\n",
      "La contenance d'un vehicule se situe entre 10 et 100\n",
      "\n",
      "La moyenne de la taille des objet : 9.92\n",
      "La moyenne de la contenance des vehicule : 56.0 \n",
      "\n",
      "La médianne de la taille des objet : 10.0\n",
      "La médianne de la contenace des vehicule : 55.5 \n",
      "\n",
      "Quartile Q1 de la taille des objet : 5.0\n",
      "Quartile Q3 de la taille des objet : 14.0 \n",
      "\n",
      "Quartile Q1 de la contenace des vehicule : 5.0\n",
      "Quartile Q3 de la contenace des vehicule : 14.0 \n",
      "\n",
      "L'écart interquartile de la taille des objet : 9.0\n",
      "L'écart interquartile de la contenace des vehicule : 51.0 \n",
      "\n",
      "La variance de la taille des objet : 34.67\n",
      "La variance de la contenace des vehicule : 857.0 \n",
      "\n",
      "L'écart type de la taille des objet : 5.89\n",
      "L'écart type de la contenace des vehicule : 29.27 \n",
      "\n"
     ]
    }
   ],
   "source": [
    "import numpy as np\n",
    "import matplotlib.pyplot as plt\n",
    "import pandas as pd\n",
    "from scipy import stats as st\n",
    "import matplotlib.pyplot as plt\n",
    "import math\n",
    "import sys\n",
    "import json\n",
    "\n",
    "def moyenne(datademand, datavehicule):\n",
    "    datademand = np.mean(datademand)\n",
    "    datavehicule = np.mean(datavehicule)\n",
    "    print('La moyenne de la taille des objet :' ,round(datademand, 2))\n",
    "    print('La moyenne de la contenance des vehicule :' ,round(datavehicule, 2), '\\n')\n",
    "    \n",
    "def mediane(datademand, datavehicule):\n",
    "    datademand = np.median(datademand)\n",
    "    datavehicule = np.median(datavehicule)\n",
    "    print('La médianne de la taille des objet :' ,round(datademand, 2))\n",
    "    print('La médianne de la contenace des vehicule :' ,round(datavehicule, 2) , '\\n')\n",
    "    \n",
    "def variance(datademand, datavehicule):\n",
    "    datademand = np.var(datademand)\n",
    "    datavehicule = np.var(datavehicule)\n",
    "    print('La variance de la taille des objet :' ,round(datademand, 2))\n",
    "    print('La variance de la contenace des vehicule :' ,round(datavehicule, 2) , '\\n')\n",
    "    \n",
    "def ecart_type(datademand, datavehicule):\n",
    "    datademand = np.std(datademand)\n",
    "    datavehicule = np.std(datavehicule)\n",
    "    print('L\\'écart type de la taille des objet :' ,round(datademand, 2))\n",
    "    print('L\\'écart type de la contenace des vehicule :' ,round(datavehicule, 2), '\\n') \n",
    "    \n",
    "def quantile(datademand, datavehicule):\n",
    "    Q1d = round(np.percentile(datademand, 25))\n",
    "    Q3d = round(np.percentile(datademand, 75))\n",
    "    Q1v = round(np.percentile(datavehicule, 25))\n",
    "    Q3v = round(np.percentile(datavehicule, 75))\n",
    "    datademand = np.median(datademand)\n",
    "    datavehicule = np.median(datavehicule)\n",
    "    print('Quartile Q1 de la taille des objet :' ,Q1d)\n",
    "    print('Quartile Q3 de la taille des objet :' ,Q3d, '\\n')\n",
    "    print('Quartile Q1 de la contenace des vehicule :' ,Q1v)\n",
    "    print('Quartile Q3 de la contenace des vehicule :' ,Q3v, '\\n')\n",
    "    ecart_interquartile(Q1d,Q3d, Q1v,Q3v)\n",
    "    \n",
    "def ecart_interquartile(q1demand, q3demands, q1vehicule, q3vehicule):\n",
    "    print('L\\'écart interquartile de la taille des objet :' ,q3demands-q1demand)\n",
    "    print('L\\'écart interquartile de la contenace des vehicule :' ,q3vehicule-q1vehicule , '\\n')\n",
    "    \n",
    "def main(argv):\n",
    "    print('La taille d\\'un objet se situe entre 0 et 20')\n",
    "    print('La contenance d\\'un vehicule se situe entre 10 et 100\\n')\n",
    "    # On recupere le Dataset\n",
    "    with open(\"Dataset/Data.json\".format(argv[0]), 'r') as json_file:\n",
    "        data = json.load(json_file)\n",
    "    datademand = data['demands']\n",
    "    datavehicule = data['vehicle_capacities']\n",
    "    \n",
    "    moyenne(datademand, datavehicule)\n",
    "    mediane(datademand, datavehicule)\n",
    "    quantile(datademand, datavehicule)\n",
    "    variance(datademand, datavehicule)\n",
    "    ecart_type(datademand, datavehicule)\n",
    "    \n",
    "    \n",
    "    \n",
    "if __name__ == '__main__':\n",
    "    main(sys.argv[1:])\n"
   ]
  },
  {
   "cell_type": "code",
   "execution_count": null,
   "metadata": {},
   "outputs": [],
   "source": []
  }
 ],
 "metadata": {
  "colab": {
   "collapsed_sections": [],
   "name": "Projet_Data.ipynb",
   "provenance": [],
   "toc_visible": true,
   "version": "0.3.2"
  },
  "kernelspec": {
   "display_name": "Python 3",
   "language": "python",
   "name": "python3"
  },
  "language_info": {
   "codemirror_mode": {
    "name": "ipython",
    "version": 3
   },
   "file_extension": ".py",
   "mimetype": "text/x-python",
   "name": "python",
   "nbconvert_exporter": "python",
   "pygments_lexer": "ipython3",
   "version": "3.7.3"
  }
 },
 "nbformat": 4,
 "nbformat_minor": 2
}
