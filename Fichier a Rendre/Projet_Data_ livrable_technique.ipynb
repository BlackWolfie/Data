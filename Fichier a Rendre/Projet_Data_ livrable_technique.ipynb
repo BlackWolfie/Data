{
 "cells": [
  {
   "cell_type": "markdown",
   "metadata": {
    "colab_type": "text",
    "id": "ONYWnLl36fWA"
   },
   "source": [
    "Extension"
   ]
  },
  {
   "cell_type": "code",
   "execution_count": null,
   "metadata": {
    "colab": {},
    "colab_type": "code",
    "id": "3_6uu6eJ6dM4"
   },
   "outputs": [],
   "source": [
    "pip install ortools"
   ]
  },
  {
   "cell_type": "markdown",
   "metadata": {
    "colab_type": "text",
    "id": "U1ZrvrRB4-Eo"
   },
   "source": [
    "# Dataset\n",
    "## Fichier d'instance de problème"
   ]
  },
  {
   "cell_type": "markdown",
   "metadata": {
    "colab": {},
    "colab_type": "code",
    "id": "7I_zY5aZ5Dug"
   },
   "source": [
    "Le fichier d'instance est le fichier se trouvant dans Dataset data.json"
   ]
  },
  {
   "cell_type": "markdown",
   "metadata": {
    "colab_type": "text",
    "id": "NZ1fWNTR5yzx"
   },
   "source": [
    "## Code de génération aléatoire"
   ]
  },
  {
   "cell_type": "code",
   "execution_count": null,
   "metadata": {
    "colab": {
     "base_uri": "https://localhost:8080/",
     "height": 71
    },
    "colab_type": "code",
    "executionInfo": {
     "elapsed": 5672,
     "status": "ok",
     "timestamp": 1561995391772,
     "user": {
      "displayName": "luc van de velde",
      "photoUrl": "",
      "userId": "16222162729783554477"
     },
     "user_tz": -120
    },
    "id": "xgX15sdW55p4",
    "outputId": "96334899-0303-490c-eea3-278da754fbcf"
   },
   "outputs": [],
   "source": [
    "import random\n",
    "from datetime import datetime, time, timedelta\n",
    "import math\n",
    "import sys\n",
    "import json\n",
    "\n",
    "# Creation de la matrice d edistance\n",
    "def compute_euclidean_distance_matrix(locations):\n",
    "    \"\"\"Creates callback to return distance between points.\"\"\"\n",
    "    distances = [[0 for x in range(len(locations))]\n",
    "                 for y in range(len(locations))]\n",
    "    for from_counter, from_node in enumerate(locations):\n",
    "        for to_counter, to_node in enumerate(locations):\n",
    "            if from_counter == to_counter:\n",
    "                distances[from_counter][to_counter] = 0\n",
    "            else:\n",
    "                # Euclidean distance\n",
    "                distances[from_counter][to_counter] = (int(\n",
    "                    math.hypot((from_node[0] - to_node[0]),\n",
    "                               (from_node[1] - to_node[1]))))\n",
    "    return distances\n",
    "\n",
    "# creation des coordonée de localisation\n",
    "def createCoordinates(tailleListe) :\n",
    "    \n",
    "\n",
    "    dataset = {}\n",
    "    dataset[\"location\"] = list()\n",
    "\n",
    "    increment = 0\n",
    "\n",
    "    while increment < tailleListe : \n",
    "        coordinates = (\n",
    "            random.randint(10,10000), random.randint(10,10000))\n",
    "      \n",
    "        dataset[\"location\"].append(coordinates)\n",
    "        increment = increment + 1\n",
    "\n",
    "   \n",
    "    return(dataset)\n",
    "\n",
    "#  Creation de la taille des objet recuperer\n",
    "def createObject(dataset, tailleListe) :\n",
    "    dataset[\"timeWindow\"] = list()\n",
    "\n",
    "    fermeture = 0\n",
    "    ouverture = 1\n",
    "\n",
    "    increment = 0\n",
    "\n",
    "    while increment < tailleListe : \n",
    "        ouverture = random.randint(0,20)\n",
    "\n",
    "        dataset[\"timeWindow\"].append(ouverture)\n",
    "\n",
    "        fermeture = 0\n",
    "        ouverture = 1\n",
    "        increment = increment + 1\n",
    "\n",
    "    return(dataset)\n",
    "\n",
    "# Creation de la dimmensions des camion\n",
    "def creationDim(dataset, listSize) :\n",
    "    dataset[\"vehicle_capacities\"] = list()\n",
    "    increment = 0\n",
    "\n",
    "    while increment < listSize : \n",
    "        dimmension = random.randint(10,100)\n",
    "        dataset[\"vehicle_capacities\"].append(dimmension)\n",
    "        increment = increment + 1\n",
    "\n",
    "    return(dataset)\n",
    "\n",
    "# Creation des variable a utiliser pour le DataSet\n",
    "def creationFonc(listSize, trucks) :\n",
    "\n",
    "    data = createCoordinates(listSize)\n",
    "    data = createObject(data, listSize)\n",
    "    data = creationDim(data, trucks)\n",
    "    data['location'] = compute_euclidean_distance_matrix(\n",
    "        data['location'])\n",
    "\n",
    "    return data\n",
    "\n",
    "\n",
    "def main(argv):\n",
    "    filename = argv[0]\n",
    "    listSize = int(input(\"Entrez le nombre de villes : \"))\n",
    "    trucks= int(float(25/100) * listSize)\n",
    "    print (trucks)\n",
    "    data1=creationFonc(listSize, trucks)\n",
    "    data = {}\n",
    "    data['distance_matrix'] = data1['location']\n",
    "    data['demands'] = data1['timeWindow']\n",
    "    data['vehicle_capacities'] = data1['vehicle_capacities']\n",
    "    data['num_vehicles'] = trucks\n",
    "    data['depot'] = 0\n",
    "  \n",
    "    #   Insertion des donnée dans un fichier JSON\n",
    "    with open(\"Dataset/Data.json\".format(filename), 'w') as json_file:\n",
    "        json.dump(data, json_file, indent=2)\n",
    "  \n",
    "    # On demare la fonction \n",
    "if __name__ == '__main__':\n",
    "    main(sys.argv[1:])"
   ]
  },
  {
   "cell_type": "markdown",
   "metadata": {
    "colab_type": "text",
    "id": "FXNbR2cu557o"
   },
   "source": [
    "# Code Python de l'algorithme\n"
   ]
  },
  {
   "cell_type": "code",
   "execution_count": null,
   "metadata": {
    "colab": {
     "base_uri": "https://localhost:8080/",
     "height": 122
    },
    "colab_type": "code",
    "executionInfo": {
     "elapsed": 225193,
     "status": "ok",
     "timestamp": 1562052051465,
     "user": {
      "displayName": "luc van de velde",
      "photoUrl": "",
      "userId": "16222162729783554477"
     },
     "user_tz": -120
    },
    "id": "Tv7a8kPI6IwJ",
    "outputId": "a45dc962-9e23-4197-8a68-dfba7b912eb3"
   },
   "outputs": [],
   "source": [
    "\"\"\"Capacited Vehicles Routing Problem (CVRP).\"\"\"\n",
    "\n",
    "from __future__ import print_function\n",
    "from ortools.constraint_solver import routing_enums_pb2\n",
    "from ortools.constraint_solver import pywrapcp\n",
    "import math\n",
    "import sys\n",
    "import json\n",
    "\n",
    "# On affiche les resultat de la fonctions\n",
    "def print_solution(data, manager, routing, assignment):\n",
    "    \"\"\"Prints assignment on console.\"\"\"\n",
    "    total_distance = 0\n",
    "    total_load = 0\n",
    "    for vehicle_id in range(data['num_vehicles']):\n",
    "        index = routing.Start(vehicle_id)\n",
    "        plan_output = 'Route for vehicle {}:\\n'.format(vehicle_id)\n",
    "        route_distance = 0\n",
    "        route_load = 0\n",
    "        while not routing.IsEnd(index):\n",
    "            node_index = manager.IndexToNode(index)\n",
    "            route_load += data['demands'][node_index]\n",
    "            plan_output += ' {0} Load({1}) -> '.format(\n",
    "                node_index, route_load)\n",
    "            previous_index = index\n",
    "            index = assignment.Value(routing.NextVar(index))\n",
    "            route_distance += routing.GetArcCostForVehicle(\n",
    "                previous_index, index, vehicle_id)\n",
    "        plan_output += ' {0} Load({1})\\n'.format(\n",
    "            manager.IndexToNode(index), route_load)\n",
    "        plan_output += 'Distance of the route: {}m\\n'.format(\n",
    "            route_distance)\n",
    "        plan_output += 'Load of the route: {}\\n'.format(\n",
    "            route_load)\n",
    "        print(plan_output)\n",
    "        total_distance += route_distance\n",
    "        total_load += route_load\n",
    "    print('Total distance of all routes: {}m'.format(\n",
    "        total_distance))\n",
    "    print('Total load of all routes: {}'.format(\n",
    "        total_load))\n",
    "\n",
    "\n",
    "def main(argv):\n",
    "    \"\"\"Solve the CVRP problem.\"\"\"\n",
    "    # Get the Dataset\n",
    "    with open(\"Dataset/Data.json\".format(argv[0]), 'r') as json_file:\n",
    "        data = json.load(json_file)\n",
    "    # Create the routing index manager.\n",
    "    manager = pywrapcp.RoutingIndexManager(\n",
    "        len(\n",
    "            data['distance_matrix']), \n",
    "            data['num_vehicles'], \n",
    "            data['depot'])\n",
    "\n",
    "    # Create Routing Model.\n",
    "    routing = pywrapcp.RoutingModel(manager)\n",
    "\n",
    "\n",
    "    # Create and register a transit callback.\n",
    "    def distance_callback(from_index, to_index):\n",
    "        \"\"\"Returns the distance between the two nodes.\"\"\"\n",
    "        # Convert from routing variable Index to distance matrix NodeIndex.\n",
    "        from_node = manager.IndexToNode(from_index)\n",
    "        to_node = manager.IndexToNode(to_index)\n",
    "        return data['distance_matrix'][from_node][to_node]\n",
    "\n",
    "    transit_callback_index = routing.RegisterTransitCallback(\n",
    "        distance_callback)\n",
    "\n",
    "    # Define cost of each arc.\n",
    "    routing.SetArcCostEvaluatorOfAllVehicles(\n",
    "        transit_callback_index)\n",
    "\n",
    "\n",
    "    # Add Capacity constraint.\n",
    "    def demand_callback(from_index):\n",
    "        \"\"\"Returns the demand of the node.\"\"\"\n",
    "        # Convert from routing variable Index to demands NodeIndex.\n",
    "        from_node = manager.IndexToNode(from_index)\n",
    "        return data['demands'][from_node]\n",
    "\n",
    "    demand_callback_index = routing.RegisterUnaryTransitCallback(\n",
    "        demand_callback)\n",
    "    routing.AddDimensionWithVehicleCapacity(\n",
    "        demand_callback_index,\n",
    "        0,  # null capacity slack\n",
    "        data['vehicle_capacities'],  # vehicle maximum capacities\n",
    "        True,  # start cumul to zero\n",
    "        'Capacity')\n",
    "\n",
    "    # Setting first solution heuristic.\n",
    "    search_parameters = pywrapcp.DefaultRoutingSearchParameters()\n",
    "    search_parameters.local_search_metaheuristic = (\n",
    "        routing_enums_pb2.LocalSearchMetaheuristic.GUIDED_LOCAL_SEARCH)\n",
    "    search_parameters.time_limit.seconds = 30\n",
    "    search_parameters.log_search = True\n",
    "\n",
    "    # Solve the problem.\n",
    "    assignment = routing.SolveWithParameters(search_parameters)\n",
    "\n",
    "    # Print solution on console.\n",
    "    if assignment:\n",
    "        print('Nbr de vehicules {}'.format(data['num_vehicles']))\n",
    "        print('Capacité des vehicules {}'.format(\n",
    "            data['vehicle_capacities']))\n",
    "        print_solution(data, manager, routing, assignment)\n",
    "        \n",
    "\n",
    "\n",
    "if __name__ == '__main__':\n",
    "    main(sys.argv[1:])"
   ]
  },
  {
   "cell_type": "markdown",
   "metadata": {
    "colab_type": "text",
    "id": "C9tCC_fA6I-p"
   },
   "source": [
    "# Codes pour générer l'étude expérimentale"
   ]
  },
  {
   "cell_type": "markdown",
   "metadata": {
    "colab_type": "text",
    "id": "Xg_e2y8O6Tyo"
   },
   "source": [
    "## Code de calcul des statistiques descriptives, voire prédictives"
   ]
  },
  {
   "cell_type": "code",
   "execution_count": 45,
   "metadata": {
    "colab": {},
    "colab_type": "code",
    "id": "8CAbxO9a6WVJ"
   },
   "outputs": [
    {
     "name": "stdout",
     "output_type": "stream",
     "text": [
      "La taille d'un objet se situe entre 0 et 20\n",
      "La contenance d'un vehicule se situe entre 10 et 100\n",
      "\n",
      "La moyenne de la taille des objet : 9.92\n",
      "La moyenne de la contenance des vehicule : 56.0 \n",
      "\n",
      "La médianne de la taille des objet : 10.0\n",
      "La médianne de la contenace des vehicule : 55.5 \n",
      "\n",
      "Quartile Q1 de la taille des objet : 5.0\n",
      "Quartile Q3 de la taille des objet : 14.0 \n",
      "\n",
      "Quartile Q1 de la contenace des vehicule : 5.0\n",
      "Quartile Q3 de la contenace des vehicule : 14.0 \n",
      "\n",
      "L'écart interquartile de la taille des objet : 9.0\n",
      "L'écart interquartile de la contenace des vehicule : 51.0 \n",
      "\n",
      "La variance de la taille des objet : 34.67\n",
      "La variance de la contenace des vehicule : 857.0 \n",
      "\n",
      "L'écart type de la taille des objet : 5.89\n",
      "L'écart type de la contenace des vehicule : 29.27 \n",
      "\n"
     ]
    }
   ],
   "source": [
    "import numpy as np\n",
    "import matplotlib.pyplot as plt\n",
    "import pandas as pd\n",
    "from scipy import stats as st\n",
    "import matplotlib.pyplot as plt\n",
    "import math\n",
    "import sys\n",
    "import json\n",
    "\n",
    "def main(argv):\n",
    "    print('La taille d\\'un objet se situe entre 0 et 20')\n",
    "    print('La contenance d\\'un vehicule se situe entre 10 et 100\\n')\n",
    "    # On recupere le Dataset\n",
    "    with open(\"Dataset/Data.json\".format(argv[0]), 'r') as json_file:\n",
    "        data = json.load(json_file)\n",
    "    datademand = data['demands']\n",
    "    datavehicule = data['vehicle_capacities']\n",
    "    \n",
    "    moyenne(datademand, datavehicule)\n",
    "    mediane(datademand, datavehicule)\n",
    "    quantile(datademand, datavehicule)\n",
    "    variance(datademand, datavehicule)\n",
    "    ecart_type(datademand, datavehicule)\n",
    "    \n",
    "    \n",
    "    \n",
    "if __name__ == '__main__':\n",
    "    main(sys.argv[1:])\n"
   ]
  },
  {
   "cell_type": "markdown",
   "metadata": {},
   "source": [
    "### Moyenne\n",
    "<img src = \"Image/moyenne.jpg\" title = \"moyenne\" alt = \"moyenne\">\n"
   ]
  },
  {
   "cell_type": "code",
   "execution_count": 46,
   "metadata": {},
   "outputs": [],
   "source": [
    "def moyenne(datademand, datavehicule):\n",
    "    datademand = np.mean(datademand)\n",
    "    datavehicule = np.mean(datavehicule)\n",
    "    print('La moyenne de la taille des objet :' ,round(datademand, 2))\n",
    "    print('La moyenne de la contenance des vehicule :' ,round(datavehicule, 2), '\\n')"
   ]
  },
  {
   "cell_type": "markdown",
   "metadata": {},
   "source": [
    "### Médiane\n",
    "<img src = \"Image/mediane.jpg\" title = \"mediane\" alt = \"mediane\">"
   ]
  },
  {
   "cell_type": "code",
   "execution_count": 47,
   "metadata": {},
   "outputs": [],
   "source": [
    "def mediane(datademand, datavehicule):\n",
    "    datademand = np.median(datademand)\n",
    "    datavehicule = np.median(datavehicule)\n",
    "    print('La médianne de la taille des objet :' ,round(datademand, 2))\n",
    "    print('La médianne de la contenace des vehicule :' ,round(datavehicule, 2) , '\\n')"
   ]
  },
  {
   "cell_type": "markdown",
   "metadata": {},
   "source": [
    "### Variance\n",
    "<img src = \"Image/variance.jpg\" title = \"variance\" alt = \"variance\">"
   ]
  },
  {
   "cell_type": "code",
   "execution_count": 48,
   "metadata": {},
   "outputs": [],
   "source": [
    "def variance(datademand, datavehicule):\n",
    "    datademand = np.var(datademand)\n",
    "    datavehicule = np.var(datavehicule)\n",
    "    print('La variance de la taille des objet :' ,round(datademand, 2))\n",
    "    print('La variance de la contenace des vehicule :' ,round(datavehicule, 2) , '\\n') "
   ]
  },
  {
   "cell_type": "markdown",
   "metadata": {},
   "source": [
    "### L'écart-type\n",
    "<img src = \"Image/ecart-type.jpg\" title = \"ecart-type\" alt = \"ecart-type\">"
   ]
  },
  {
   "cell_type": "code",
   "execution_count": 49,
   "metadata": {},
   "outputs": [],
   "source": [
    "def ecart_type(datademand, datavehicule):\n",
    "    datademand = np.std(datademand)\n",
    "    datavehicule = np.std(datavehicule)\n",
    "    print('L\\'écart type de la taille des objet :' ,round(datademand, 2))\n",
    "    print('L\\'écart type de la contenace des vehicule :' ,round(datavehicule, 2), '\\n') "
   ]
  },
  {
   "cell_type": "markdown",
   "metadata": {},
   "source": [
    "### Quantiles\n"
   ]
  },
  {
   "cell_type": "code",
   "execution_count": 50,
   "metadata": {},
   "outputs": [],
   "source": [
    "def quantile(datademand, datavehicule):\n",
    "    Q1d = round(np.percentile(datademand, 25))\n",
    "    Q3d = round(np.percentile(datademand, 75))\n",
    "    Q1v = round(np.percentile(datavehicule, 25))\n",
    "    Q3v = round(np.percentile(datavehicule, 75))\n",
    "    datademand = np.median(datademand)\n",
    "    datavehicule = np.median(datavehicule)\n",
    "    print('Quartile Q1 de la taille des objet :' ,Q1d)\n",
    "    print('Quartile Q3 de la taille des objet :' ,Q3d, '\\n')\n",
    "    print('Quartile Q1 de la contenace des vehicule :' ,Q1v)\n",
    "    print('Quartile Q3 de la contenace des vehicule :' ,Q3v, '\\n')\n",
    "    ecart_interquartile(Q1d,Q3d, Q1v,Q3v)\n",
    "\n"
   ]
  },
  {
   "cell_type": "markdown",
   "metadata": {},
   "source": [
    "### L'écart interquartile\n",
    "<img src = \"Image/ecart-intercartile.jpg\" title = \"ecart-interquartile\" alt = \"ecart-interquartile\">"
   ]
  },
  {
   "cell_type": "code",
   "execution_count": 51,
   "metadata": {},
   "outputs": [],
   "source": [
    "def ecart_interquartile(q1demand, q3demands, q1vehicule, q3vehicule):\n",
    "    print('L\\'écart interquartile de la taille des objet :' ,q3demands-q1demand)\n",
    "    print('L\\'écart interquartile de la contenace des vehicule :' ,q3vehicule-q1vehicule , '\\n') "
   ]
  },
  {
   "cell_type": "markdown",
   "metadata": {
    "colab_type": "text",
    "id": "VT1yAciZ6WgZ"
   },
   "source": [
    "## Script de tests de montée en charge"
   ]
  },
  {
   "cell_type": "markdown",
   "metadata": {
    "colab": {},
    "colab_type": "code",
    "id": "fN8F4fGF6ZCh"
   },
   "source": [
    "Ce tests est present dans le notebook de presentation"
   ]
  }
 ],
 "metadata": {
  "colab": {
   "collapsed_sections": [],
   "name": "Projet_Data_ livrable_technique.ipynb",
   "provenance": [],
   "version": "0.3.2"
  },
  "kernelspec": {
   "display_name": "Python 3",
   "language": "python",
   "name": "python3"
  },
  "language_info": {
   "codemirror_mode": {
    "name": "ipython",
    "version": 3
   },
   "file_extension": ".py",
   "mimetype": "text/x-python",
   "name": "python",
   "nbconvert_exporter": "python",
   "pygments_lexer": "ipython3",
   "version": "3.7.3"
  }
 },
 "nbformat": 4,
 "nbformat_minor": 2
}
