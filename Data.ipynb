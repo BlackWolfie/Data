{
  "nbformat": 4,
  "nbformat_minor": 0,
  "metadata": {
    "colab": {
      "name": "Untitled0.ipynb",
      "version": "0.3.2",
      "provenance": [],
      "include_colab_link": true
    },
    "kernelspec": {
      "name": "python3",
      "display_name": "Python 3"
    }
  },
  "cells": [
    {
      "cell_type": "markdown",
      "metadata": {
        "id": "view-in-github",
        "colab_type": "text"
      },
      "source": [
        "<a href=\"https://colab.research.google.com/github/BlackWolfie/Data/blob/master/Data.ipynb\" target=\"_parent\"><img src=\"https://colab.research.google.com/assets/colab-badge.svg\" alt=\"Open In Colab\"/></a>"
      ]
    },
    {
      "cell_type": "code",
      "metadata": {
        "id": "UImkefvQyo4B",
        "colab_type": "code",
        "colab": {}
      },
      "source": [
        "# On importe les librairies qu'il nous faut\n",
        "import numpy as np\n",
        "from pandas import DataFrame as df\n",
        "from scipy.stats import trim_mean, kurtosis\n",
        "from scipy.stats.mstats import mode, gmean, hmean\n",
        "# FIN IMPORT\n",
        "\n",
        "# On initialise les variables (Test atm)\n",
        "# Test: Deux groupes (noise et quiet) chacun avec 3 sous-groupes avec chacun des valeurs aléatoires dedans\n",
        "\n",
        "N = 20\n",
        "P = [\"noise\",\"quiet\"]\n",
        "Q = [1,2,3]\n",
        " \n",
        "values = [[998,511], [1119,620], [1300,790]]\n",
        " \n",
        "mus = np.concatenate([np.repeat(value, N) for value in values])\n",
        " \n",
        "data = df(data = {'id': [subid for subid in range(N)]*(len(P)*len(Q))\n",
        ",'iv1': np.concatenate([np.array([p]*N) for p in P]*len(Q))\n",
        ",'iv2': np.concatenate([np.array([q]*(N*len(P))) for q in Q])\n",
        ",'rt': np.random.normal(mus, scale=112.0, size=N*len(P)*len(Q))})\n",
        "#FIN INITIALISATION\n",
        "#Sort un tableau avec min, max et quartile sur data en entier\n",
        "data.describe()\n",
        "#Sors un tableau en groupant les valeurs par iv1 et iv2\n",
        "grouped_data = data.groupby(['iv1', 'iv2'])\n",
        "grouped_data['rt'].describe()\n",
        "# Moyenne\n",
        "grouped_data['rt'].aggregate(np.mean).reset_index()\n",
        "# Trimmed median\n",
        "trimmed_mean = grouped_data['rt'].apply(trim_mean, .1)\n",
        "trimmed_mean.reset_index()\n",
        "# Median\n",
        "grouped_data['rt'].median().reset_index()\n",
        "grouped_data['rt'].aggregate(np.median).reset_index()\n",
        "#Deviation\n",
        "grouped_data['rt'].std().reset_index()\n",
        "# Quartile\n",
        "grouped_data['rt'].quantile([.25, .5, .75]).unstack()\n",
        "# Variance \n",
        "grouped_data['rt'].var().reset_index()\n"
      ],
      "execution_count": 0,
      "outputs": []
    }
  ]
}