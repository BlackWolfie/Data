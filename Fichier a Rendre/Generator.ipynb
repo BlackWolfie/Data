{
 "cells": [
  {
   "cell_type": "code",
   "execution_count": 1,
   "metadata": {},
   "outputs": [
    {
     "name": "stdout",
     "output_type": "stream",
     "text": [
      "Requirement already satisfied: ortools in d:\\users\\quent\\anaconda3\\lib\\site-packages (7.1.6722)\n",
      "Requirement already satisfied: protobuf>=3.7.1 in d:\\users\\quent\\anaconda3\\lib\\site-packages (from ortools) (3.8.0)\n",
      "Requirement already satisfied: six>=1.10 in d:\\users\\quent\\anaconda3\\lib\\site-packages (from ortools) (1.12.0)\n",
      "Requirement already satisfied: setuptools in d:\\users\\quent\\anaconda3\\lib\\site-packages (from protobuf>=3.7.1->ortools) (40.8.0)\n",
      "Note: you may need to restart the kernel to use updated packages.\n"
     ]
    }
   ],
   "source": [
    "pip install ortools"
   ]
  },
  {
   "cell_type": "code",
   "execution_count": 2,
   "metadata": {
    "colab": {
     "base_uri": "https://localhost:8080/",
     "height": 371
    },
    "colab_type": "code",
    "executionInfo": {
     "elapsed": 3724,
     "status": "error",
     "timestamp": 1562060116935,
     "user": {
      "displayName": "luc van de velde",
      "photoUrl": "",
      "userId": "16222162729783554477"
     },
     "user_tz": -120
    },
    "id": "tXo4QDtE5JNz",
    "outputId": "a62d4546-4f03-44bf-a868-a09b8f14c04b"
   },
   "outputs": [
    {
     "name": "stdin",
     "output_type": "stream",
     "text": [
      "Entrez le nombre de villes :  20\n"
     ]
    },
    {
     "name": "stdout",
     "output_type": "stream",
     "text": [
      "5\n"
     ]
    }
   ],
   "source": [
    "import random\n",
    "from datetime import datetime, time, timedelta\n",
    "import math\n",
    "import sys\n",
    "import json\n",
    "\n",
    "# Creation de la matrice d edistance\n",
    "def compute_euclidean_distance_matrix(locations):\n",
    "    \"\"\"Creates callback to return distance between points.\"\"\"\n",
    "    distances = [[0 for x in range(len(locations))]\n",
    "                 for y in range(len(locations))]\n",
    "    for from_counter, from_node in enumerate(locations):\n",
    "        for to_counter, to_node in enumerate(locations):\n",
    "            if from_counter == to_counter:\n",
    "                distances[from_counter][to_counter] = 0\n",
    "            else:\n",
    "                # Euclidean distance\n",
    "                distances[from_counter][to_counter] = (int(\n",
    "                    math.hypot((from_node[0] - to_node[0]),\n",
    "                               (from_node[1] - to_node[1]))))\n",
    "    return distances\n",
    "\n",
    "# creation des coordonée de localisation\n",
    "def createCoordinates(tailleListe) :\n",
    "    \n",
    "\n",
    "    dataset = {}\n",
    "    dataset[\"location\"] = list()\n",
    "\n",
    "    increment = 0\n",
    "\n",
    "    while increment < tailleListe : \n",
    "        coordinates = (\n",
    "            random.randint(10,10000), random.randint(10,10000))\n",
    "      \n",
    "        dataset[\"location\"].append(coordinates)\n",
    "        increment = increment + 1\n",
    "\n",
    "   \n",
    "    return(dataset)\n",
    "\n",
    "#  Creation de la taille des objet recuperer\n",
    "def createObject(dataset, tailleListe) :\n",
    "    dataset[\"timeWindow\"] = list()\n",
    "\n",
    "    fermeture = 0\n",
    "    ouverture = 1\n",
    "\n",
    "    increment = 0\n",
    "\n",
    "    while increment < tailleListe : \n",
    "        ouverture = random.randint(0,20)\n",
    "\n",
    "        dataset[\"timeWindow\"].append(ouverture)\n",
    "\n",
    "        fermeture = 0\n",
    "        ouverture = 1\n",
    "        increment = increment + 1\n",
    "\n",
    "    return(dataset)\n",
    "\n",
    "# Creation de la dimmensions des camion\n",
    "def creationDim(dataset, listSize) :\n",
    "    dataset[\"vehicle_capacities\"] = list()\n",
    "    increment = 0\n",
    "\n",
    "    while increment < listSize : \n",
    "        dimmension = random.randint(10,100)\n",
    "        dataset[\"vehicle_capacities\"].append(dimmension)\n",
    "        increment = increment + 1\n",
    "\n",
    "    return(dataset)\n",
    "\n",
    "# Creation des variable a utiliser pour le DataSet\n",
    "def creationFonc(listSize, trucks) :\n",
    "\n",
    "    data = createCoordinates(listSize)\n",
    "    data = createObject(data, listSize)\n",
    "    data = creationDim(data, trucks)\n",
    "    data['location'] = compute_euclidean_distance_matrix(\n",
    "        data['location'])\n",
    "\n",
    "    return data\n",
    "\n",
    "\n",
    "def main(argv):\n",
    "    filename = argv[0]\n",
    "    listSize = int(input(\"Entrez le nombre de villes : \"))\n",
    "    trucks= int(float(25/100) * listSize)\n",
    "    print (trucks)\n",
    "    data1=creationFonc(listSize, trucks)\n",
    "    data = {}\n",
    "    data['distance_matrix'] = data1['location']\n",
    "    data['demands'] = data1['timeWindow']\n",
    "    data['vehicle_capacities'] = data1['vehicle_capacities']\n",
    "    data['num_vehicles'] = trucks\n",
    "    data['depot'] = 0\n",
    "  \n",
    "    #   Insertion des donnée dans un fichier JSON\n",
    "    with open(\"Dataset/Data.json\".format(filename), 'w') as json_file:\n",
    "        json.dump(data, json_file, indent=2)\n",
    "  \n",
    "    # On demare la fonction \n",
    "if __name__ == '__main__':\n",
    "    main(sys.argv[1:])"
   ]
  },
  {
   "cell_type": "code",
   "execution_count": null,
   "metadata": {},
   "outputs": [],
   "source": [
    "\n"
   ]
  },
  {
   "cell_type": "code",
   "execution_count": null,
   "metadata": {},
   "outputs": [],
   "source": []
  }
 ],
 "metadata": {
  "colab": {
   "collapsed_sections": [],
   "name": "Untitled1.ipynb",
   "provenance": [],
   "version": "0.3.2"
  },
  "kernelspec": {
   "display_name": "Python 3",
   "language": "python",
   "name": "python3"
  },
  "language_info": {
   "codemirror_mode": {
    "name": "ipython",
    "version": 3
   },
   "file_extension": ".py",
   "mimetype": "text/x-python",
   "name": "python",
   "nbconvert_exporter": "python",
   "pygments_lexer": "ipython3",
   "version": "3.7.3"
  }
 },
 "nbformat": 4,
 "nbformat_minor": 2
}
